{
 "cells": [
  {
   "cell_type": "code",
   "execution_count": 1,
   "id": "83384ee6",
   "metadata": {},
   "outputs": [],
   "source": [
    "import pandas as pd \n",
    "import numpy as np\n",
    "import seaborn as sns\n",
    "import matplotlib.pyplot as plt\n"
   ]
  },
  {
   "cell_type": "code",
   "execution_count": 2,
   "id": "1005f11b",
   "metadata": {},
   "outputs": [],
   "source": [
    "df  = pd.read_csv(\"uber.csv\")"
   ]
  },
  {
   "cell_type": "code",
   "execution_count": 3,
   "id": "0c1b5687",
   "metadata": {},
   "outputs": [],
   "source": [
    "df = df.drop(['Unnamed: 0', 'key'], axis= 1)"
   ]
  },
  {
   "cell_type": "code",
   "execution_count": 4,
   "id": "31491b44",
   "metadata": {},
   "outputs": [
    {
     "data": {
      "text/html": [
       "<div>\n",
       "<style scoped>\n",
       "    .dataframe tbody tr th:only-of-type {\n",
       "        vertical-align: middle;\n",
       "    }\n",
       "\n",
       "    .dataframe tbody tr th {\n",
       "        vertical-align: top;\n",
       "    }\n",
       "\n",
       "    .dataframe thead th {\n",
       "        text-align: right;\n",
       "    }\n",
       "</style>\n",
       "<table border=\"1\" class=\"dataframe\">\n",
       "  <thead>\n",
       "    <tr style=\"text-align: right;\">\n",
       "      <th></th>\n",
       "      <th>fare_amount</th>\n",
       "      <th>pickup_datetime</th>\n",
       "      <th>pickup_longitude</th>\n",
       "      <th>pickup_latitude</th>\n",
       "      <th>dropoff_longitude</th>\n",
       "      <th>dropoff_latitude</th>\n",
       "      <th>passenger_count</th>\n",
       "    </tr>\n",
       "  </thead>\n",
       "  <tbody>\n",
       "    <tr>\n",
       "      <th>0</th>\n",
       "      <td>7.5</td>\n",
       "      <td>2015-05-07 19:52:06 UTC</td>\n",
       "      <td>-73.999817</td>\n",
       "      <td>40.738354</td>\n",
       "      <td>-73.999512</td>\n",
       "      <td>40.723217</td>\n",
       "      <td>1</td>\n",
       "    </tr>\n",
       "    <tr>\n",
       "      <th>1</th>\n",
       "      <td>7.7</td>\n",
       "      <td>2009-07-17 20:04:56 UTC</td>\n",
       "      <td>-73.994355</td>\n",
       "      <td>40.728225</td>\n",
       "      <td>-73.994710</td>\n",
       "      <td>40.750325</td>\n",
       "      <td>1</td>\n",
       "    </tr>\n",
       "    <tr>\n",
       "      <th>2</th>\n",
       "      <td>12.9</td>\n",
       "      <td>2009-08-24 21:45:00 UTC</td>\n",
       "      <td>-74.005043</td>\n",
       "      <td>40.740770</td>\n",
       "      <td>-73.962565</td>\n",
       "      <td>40.772647</td>\n",
       "      <td>1</td>\n",
       "    </tr>\n",
       "    <tr>\n",
       "      <th>3</th>\n",
       "      <td>5.3</td>\n",
       "      <td>2009-06-26 08:22:21 UTC</td>\n",
       "      <td>-73.976124</td>\n",
       "      <td>40.790844</td>\n",
       "      <td>-73.965316</td>\n",
       "      <td>40.803349</td>\n",
       "      <td>3</td>\n",
       "    </tr>\n",
       "    <tr>\n",
       "      <th>4</th>\n",
       "      <td>16.0</td>\n",
       "      <td>2014-08-28 17:47:00 UTC</td>\n",
       "      <td>-73.925023</td>\n",
       "      <td>40.744085</td>\n",
       "      <td>-73.973082</td>\n",
       "      <td>40.761247</td>\n",
       "      <td>5</td>\n",
       "    </tr>\n",
       "    <tr>\n",
       "      <th>...</th>\n",
       "      <td>...</td>\n",
       "      <td>...</td>\n",
       "      <td>...</td>\n",
       "      <td>...</td>\n",
       "      <td>...</td>\n",
       "      <td>...</td>\n",
       "      <td>...</td>\n",
       "    </tr>\n",
       "    <tr>\n",
       "      <th>199995</th>\n",
       "      <td>3.0</td>\n",
       "      <td>2012-10-28 10:49:00 UTC</td>\n",
       "      <td>-73.987042</td>\n",
       "      <td>40.739367</td>\n",
       "      <td>-73.986525</td>\n",
       "      <td>40.740297</td>\n",
       "      <td>1</td>\n",
       "    </tr>\n",
       "    <tr>\n",
       "      <th>199996</th>\n",
       "      <td>7.5</td>\n",
       "      <td>2014-03-14 01:09:00 UTC</td>\n",
       "      <td>-73.984722</td>\n",
       "      <td>40.736837</td>\n",
       "      <td>-74.006672</td>\n",
       "      <td>40.739620</td>\n",
       "      <td>1</td>\n",
       "    </tr>\n",
       "    <tr>\n",
       "      <th>199997</th>\n",
       "      <td>30.9</td>\n",
       "      <td>2009-06-29 00:42:00 UTC</td>\n",
       "      <td>-73.986017</td>\n",
       "      <td>40.756487</td>\n",
       "      <td>-73.858957</td>\n",
       "      <td>40.692588</td>\n",
       "      <td>2</td>\n",
       "    </tr>\n",
       "    <tr>\n",
       "      <th>199998</th>\n",
       "      <td>14.5</td>\n",
       "      <td>2015-05-20 14:56:25 UTC</td>\n",
       "      <td>-73.997124</td>\n",
       "      <td>40.725452</td>\n",
       "      <td>-73.983215</td>\n",
       "      <td>40.695415</td>\n",
       "      <td>1</td>\n",
       "    </tr>\n",
       "    <tr>\n",
       "      <th>199999</th>\n",
       "      <td>14.1</td>\n",
       "      <td>2010-05-15 04:08:00 UTC</td>\n",
       "      <td>-73.984395</td>\n",
       "      <td>40.720077</td>\n",
       "      <td>-73.985508</td>\n",
       "      <td>40.768793</td>\n",
       "      <td>1</td>\n",
       "    </tr>\n",
       "  </tbody>\n",
       "</table>\n",
       "<p>200000 rows × 7 columns</p>\n",
       "</div>"
      ],
      "text/plain": [
       "        fare_amount          pickup_datetime  pickup_longitude  \\\n",
       "0               7.5  2015-05-07 19:52:06 UTC        -73.999817   \n",
       "1               7.7  2009-07-17 20:04:56 UTC        -73.994355   \n",
       "2              12.9  2009-08-24 21:45:00 UTC        -74.005043   \n",
       "3               5.3  2009-06-26 08:22:21 UTC        -73.976124   \n",
       "4              16.0  2014-08-28 17:47:00 UTC        -73.925023   \n",
       "...             ...                      ...               ...   \n",
       "199995          3.0  2012-10-28 10:49:00 UTC        -73.987042   \n",
       "199996          7.5  2014-03-14 01:09:00 UTC        -73.984722   \n",
       "199997         30.9  2009-06-29 00:42:00 UTC        -73.986017   \n",
       "199998         14.5  2015-05-20 14:56:25 UTC        -73.997124   \n",
       "199999         14.1  2010-05-15 04:08:00 UTC        -73.984395   \n",
       "\n",
       "        pickup_latitude  dropoff_longitude  dropoff_latitude  passenger_count  \n",
       "0             40.738354         -73.999512         40.723217                1  \n",
       "1             40.728225         -73.994710         40.750325                1  \n",
       "2             40.740770         -73.962565         40.772647                1  \n",
       "3             40.790844         -73.965316         40.803349                3  \n",
       "4             40.744085         -73.973082         40.761247                5  \n",
       "...                 ...                ...               ...              ...  \n",
       "199995        40.739367         -73.986525         40.740297                1  \n",
       "199996        40.736837         -74.006672         40.739620                1  \n",
       "199997        40.756487         -73.858957         40.692588                2  \n",
       "199998        40.725452         -73.983215         40.695415                1  \n",
       "199999        40.720077         -73.985508         40.768793                1  \n",
       "\n",
       "[200000 rows x 7 columns]"
      ]
     },
     "execution_count": 4,
     "metadata": {},
     "output_type": "execute_result"
    }
   ],
   "source": [
    "df"
   ]
  },
  {
   "cell_type": "code",
   "execution_count": 5,
   "id": "7d928f5c",
   "metadata": {},
   "outputs": [],
   "source": [
    "df['dropoff_latitude'].fillna(value=df['dropoff_latitude'].mean(),inplace = True)\n",
    "df['dropoff_longitude'].fillna(value=df['dropoff_longitude'].median(),inplace = True)"
   ]
  },
  {
   "cell_type": "code",
   "execution_count": 6,
   "id": "74d75a5d",
   "metadata": {},
   "outputs": [],
   "source": [
    "df.pickup_datetime = pd.to_datetime(df.pickup_datetime, errors='coerce') "
   ]
  },
  {
   "cell_type": "code",
   "execution_count": 7,
   "id": "debd6b58",
   "metadata": {},
   "outputs": [],
   "source": [
    "df= df.assign(hour = df.pickup_datetime.dt.hour,\n",
    "             day= df.pickup_datetime.dt.day,\n",
    "             month = df.pickup_datetime.dt.month,\n",
    "             year = df.pickup_datetime.dt.year,\n",
    "             dayofweek = df.pickup_datetime.dt.dayofweek)"
   ]
  },
  {
   "cell_type": "code",
   "execution_count": 8,
   "id": "7833e7a0",
   "metadata": {},
   "outputs": [],
   "source": [
    "df = df.drop('pickup_datetime',axis=1)"
   ]
  },
  {
   "cell_type": "code",
   "execution_count": 9,
   "id": "1483a232",
   "metadata": {},
   "outputs": [
    {
     "data": {
      "text/plain": [
       "fare_amount             AxesSubplot(0.125,0.787927;0.352273x0.0920732)\n",
       "pickup_longitude     AxesSubplot(0.547727,0.787927;0.352273x0.0920732)\n",
       "pickup_latitude         AxesSubplot(0.125,0.677439;0.352273x0.0920732)\n",
       "dropoff_longitude    AxesSubplot(0.547727,0.677439;0.352273x0.0920732)\n",
       "dropoff_latitude        AxesSubplot(0.125,0.566951;0.352273x0.0920732)\n",
       "passenger_count      AxesSubplot(0.547727,0.566951;0.352273x0.0920732)\n",
       "hour                    AxesSubplot(0.125,0.456463;0.352273x0.0920732)\n",
       "day                  AxesSubplot(0.547727,0.456463;0.352273x0.0920732)\n",
       "month                   AxesSubplot(0.125,0.345976;0.352273x0.0920732)\n",
       "year                 AxesSubplot(0.547727,0.345976;0.352273x0.0920732)\n",
       "dayofweek               AxesSubplot(0.125,0.235488;0.352273x0.0920732)\n",
       "dtype: object"
      ]
     },
     "execution_count": 9,
     "metadata": {},
     "output_type": "execute_result"
    },
    {
     "data": {
      "image/png": "[encoded data removed]",
      "text/plain": [
       "<Figure size 1080x1440 with 14 Axes>"
      ]
     },
     "metadata": {
      "needs_background": "light"
     },
     "output_type": "display_data"
    }
   ],
   "source": [
    "df.plot(kind = \"box\",subplots = True,layout = (7,2),figsize=(15,20))"
   ]
  },
  {
   "cell_type": "code",
   "execution_count": 10,
   "id": "0ba5cd93",
   "metadata": {},
   "outputs": [],
   "source": [
    "def remove_outlier(df1 , col):\n",
    "    Q1 = df1[col].quantile(0.25)\n",
    "    Q3 = df1[col].quantile(0.75)\n",
    "    IQR = Q3 - Q1\n",
    "    lower_whisker = Q1-1.5*IQR\n",
    "    upper_whisker = Q3+1.5*IQR\n",
    "    df[col] = np.clip(df1[col] , lower_whisker , upper_whisker)\n",
    "    return df1\n",
    "\n",
    "def treat_outliers_all(df1 , col_list):\n",
    "    for c in col_list:\n",
    "        df1 = remove_outlier(df , c)\n",
    "    return df1"
   ]
  },
  {
   "cell_type": "code",
   "execution_count": 11,
   "id": "277b6375",
   "metadata": {},
   "outputs": [],
   "source": [
    "df = treat_outliers_all(df , df.iloc[: , 0::])"
   ]
  },
  {
   "cell_type": "code",
   "execution_count": 12,
   "id": "267e998b",
   "metadata": {},
   "outputs": [
    {
     "data": {
      "text/plain": [
       "fare_amount             AxesSubplot(0.125,0.787927;0.352273x0.0920732)\n",
       "pickup_longitude     AxesSubplot(0.547727,0.787927;0.352273x0.0920732)\n",
       "pickup_latitude         AxesSubplot(0.125,0.677439;0.352273x0.0920732)\n",
       "dropoff_longitude    AxesSubplot(0.547727,0.677439;0.352273x0.0920732)\n",
       "dropoff_latitude        AxesSubplot(0.125,0.566951;0.352273x0.0920732)\n",
       "passenger_count      AxesSubplot(0.547727,0.566951;0.352273x0.0920732)\n",
       "hour                    AxesSubplot(0.125,0.456463;0.352273x0.0920732)\n",
       "day                  AxesSubplot(0.547727,0.456463;0.352273x0.0920732)\n",
       "month                   AxesSubplot(0.125,0.345976;0.352273x0.0920732)\n",
       "year                 AxesSubplot(0.547727,0.345976;0.352273x0.0920732)\n",
       "dayofweek               AxesSubplot(0.125,0.235488;0.352273x0.0920732)\n",
       "dtype: object"
      ]
     },
     "execution_count": 12,
     "metadata": {},
     "output_type": "execute_result"
    },
    {
     "data": {
      "image/png": "[encoded data removed]",
      "text/plain": [
       "<Figure size 1080x1440 with 14 Axes>"
      ]
     },
     "metadata": {
      "needs_background": "light"
     },
     "output_type": "display_data"
    }
   ],
   "source": [
    "df.plot(kind = \"box\",subplots = True,layout = (7,2),figsize=(15,20))"
   ]
  },
  {
   "cell_type": "code",
   "execution_count": 13,
   "id": "52fa6cd2",
   "metadata": {},
   "outputs": [],
   "source": [
    "import haversine as hs"
   ]
  },
  {
   "cell_type": "code",
   "execution_count": 14,
   "id": "22e56012",
   "metadata": {},
   "outputs": [
    {
     "name": "stderr",
     "output_type": "stream",
     "text": [
      "IOPub data rate exceeded.\n",
      "The notebook server will temporarily stop sending output\n",
      "to the client in order to avoid crashing it.\n",
      "To change this limit, set the config variable\n",
      "`--NotebookApp.iopub_data_rate_limit`.\n",
      "\n",
      "Current values:\n",
      "NotebookApp.iopub_data_rate_limit=1000000.0 (bytes/sec)\n",
      "NotebookApp.rate_limit_window=3.0 (secs)\n",
      "\n"
     ]
    },
    {
     "data": {
      "text/html": [
       "<div>\n",
       "<style scoped>\n",
       "    .dataframe tbody tr th:only-of-type {\n",
       "        vertical-align: middle;\n",
       "    }\n",
       "\n",
       "    .dataframe tbody tr th {\n",
       "        vertical-align: top;\n",
       "    }\n",
       "\n",
       "    .dataframe thead th {\n",
       "        text-align: right;\n",
       "    }\n",
       "</style>\n",
       "<table border=\"1\" class=\"dataframe\">\n",
       "  <thead>\n",
       "    <tr style=\"text-align: right;\">\n",
       "      <th></th>\n",
       "      <th>fare_amount</th>\n",
       "      <th>pickup_longitude</th>\n",
       "      <th>pickup_latitude</th>\n",
       "      <th>dropoff_longitude</th>\n",
       "      <th>dropoff_latitude</th>\n",
       "      <th>passenger_count</th>\n",
       "      <th>hour</th>\n",
       "      <th>day</th>\n",
       "      <th>month</th>\n",
       "      <th>year</th>\n",
       "      <th>dayofweek</th>\n",
       "      <th>dist_travel_km</th>\n",
       "    </tr>\n",
       "  </thead>\n",
       "  <tbody>\n",
       "    <tr>\n",
       "      <th>0</th>\n",
       "      <td>7.5</td>\n",
       "      <td>-73.999817</td>\n",
       "      <td>40.738354</td>\n",
       "      <td>-73.999512</td>\n",
       "      <td>40.723217</td>\n",
       "      <td>1.0</td>\n",
       "      <td>19</td>\n",
       "      <td>7</td>\n",
       "      <td>5</td>\n",
       "      <td>2015</td>\n",
       "      <td>3</td>\n",
       "      <td>1.683325</td>\n",
       "    </tr>\n",
       "    <tr>\n",
       "      <th>1</th>\n",
       "      <td>7.7</td>\n",
       "      <td>-73.994355</td>\n",
       "      <td>40.728225</td>\n",
       "      <td>-73.994710</td>\n",
       "      <td>40.750325</td>\n",
       "      <td>1.0</td>\n",
       "      <td>20</td>\n",
       "      <td>17</td>\n",
       "      <td>7</td>\n",
       "      <td>2009</td>\n",
       "      <td>4</td>\n",
       "      <td>2.457593</td>\n",
       "    </tr>\n",
       "    <tr>\n",
       "      <th>2</th>\n",
       "      <td>12.9</td>\n",
       "      <td>-74.005043</td>\n",
       "      <td>40.740770</td>\n",
       "      <td>-73.962565</td>\n",
       "      <td>40.772647</td>\n",
       "      <td>1.0</td>\n",
       "      <td>21</td>\n",
       "      <td>24</td>\n",
       "      <td>8</td>\n",
       "      <td>2009</td>\n",
       "      <td>0</td>\n",
       "      <td>5.036384</td>\n",
       "    </tr>\n",
       "    <tr>\n",
       "      <th>3</th>\n",
       "      <td>5.3</td>\n",
       "      <td>-73.976124</td>\n",
       "      <td>40.790844</td>\n",
       "      <td>-73.965316</td>\n",
       "      <td>40.803349</td>\n",
       "      <td>3.0</td>\n",
       "      <td>8</td>\n",
       "      <td>26</td>\n",
       "      <td>6</td>\n",
       "      <td>2009</td>\n",
       "      <td>4</td>\n",
       "      <td>1.661686</td>\n",
       "    </tr>\n",
       "    <tr>\n",
       "      <th>4</th>\n",
       "      <td>16.0</td>\n",
       "      <td>-73.929786</td>\n",
       "      <td>40.744085</td>\n",
       "      <td>-73.973082</td>\n",
       "      <td>40.761247</td>\n",
       "      <td>3.5</td>\n",
       "      <td>17</td>\n",
       "      <td>28</td>\n",
       "      <td>8</td>\n",
       "      <td>2014</td>\n",
       "      <td>3</td>\n",
       "      <td>4.116088</td>\n",
       "    </tr>\n",
       "  </tbody>\n",
       "</table>\n",
       "</div>"
      ],
      "text/plain": [
       "   fare_amount  pickup_longitude  pickup_latitude  dropoff_longitude  \\\n",
       "0          7.5        -73.999817        40.738354         -73.999512   \n",
       "1          7.7        -73.994355        40.728225         -73.994710   \n",
       "2         12.9        -74.005043        40.740770         -73.962565   \n",
       "3          5.3        -73.976124        40.790844         -73.965316   \n",
       "4         16.0        -73.929786        40.744085         -73.973082   \n",
       "\n",
       "   dropoff_latitude  passenger_count  hour  day  month  year  dayofweek  \\\n",
       "0         40.723217              1.0    19    7      5  2015          3   \n",
       "1         40.750325              1.0    20   17      7  2009          4   \n",
       "2         40.772647              1.0    21   24      8  2009          0   \n",
       "3         40.803349              3.0     8   26      6  2009          4   \n",
       "4         40.761247              3.5    17   28      8  2014          3   \n",
       "\n",
       "   dist_travel_km  \n",
       "0        1.683325  \n",
       "1        2.457593  \n",
       "2        5.036384  \n",
       "3        1.661686  \n",
       "4        4.116088  "
      ]
     },
     "execution_count": 14,
     "metadata": {},
     "output_type": "execute_result"
    }
   ],
   "source": [
    "import haversine as hs  #Calculate the distance using Haversine to calculate the distance between to points. Can't use Eucladian as it is for flat surface.\n",
    "travel_dist = []\n",
    "for pos in range(len(df['pickup_longitude'])):\n",
    "        long1,lati1,long2,lati2 = [df['pickup_longitude'][pos],df['pickup_latitude'][pos],df['dropoff_longitude'][pos],df['dropoff_latitude'][pos]]\n",
    "        loc1=(lati1,long1)\n",
    "        loc2=(lati2,long2)\n",
    "        c = hs.haversine(loc1,loc2)\n",
    "        travel_dist.append(c)\n",
    "    \n",
    "df['dist_travel_km'] = travel_dist\n"
   ]
  },
  {
   "cell_type": "code",
   "execution_count": 15,
   "id": "f94ac05c",
   "metadata": {},
   "outputs": [
    {
     "data": {
      "text/html": [
       "<div>\n",
       "<style scoped>\n",
       "    .dataframe tbody tr th:only-of-type {\n",
       "        vertical-align: middle;\n",
       "    }\n",
       "\n",
       "    .dataframe tbody tr th {\n",
       "        vertical-align: top;\n",
       "    }\n",
       "\n",
       "    .dataframe thead th {\n",
       "        text-align: right;\n",
       "    }\n",
       "</style>\n",
       "<table border=\"1\" class=\"dataframe\">\n",
       "  <thead>\n",
       "    <tr style=\"text-align: right;\">\n",
       "      <th></th>\n",
       "      <th>fare_amount</th>\n",
       "      <th>pickup_longitude</th>\n",
       "      <th>pickup_latitude</th>\n",
       "      <th>dropoff_longitude</th>\n",
       "      <th>dropoff_latitude</th>\n",
       "      <th>passenger_count</th>\n",
       "      <th>hour</th>\n",
       "      <th>day</th>\n",
       "      <th>month</th>\n",
       "      <th>year</th>\n",
       "      <th>dayofweek</th>\n",
       "      <th>dist_travel_km</th>\n",
       "    </tr>\n",
       "  </thead>\n",
       "  <tbody>\n",
       "    <tr>\n",
       "      <th>0</th>\n",
       "      <td>7.5</td>\n",
       "      <td>-73.999817</td>\n",
       "      <td>40.738354</td>\n",
       "      <td>-73.999512</td>\n",
       "      <td>40.723217</td>\n",
       "      <td>1.0</td>\n",
       "      <td>19</td>\n",
       "      <td>7</td>\n",
       "      <td>5</td>\n",
       "      <td>2015</td>\n",
       "      <td>3</td>\n",
       "      <td>1.683325</td>\n",
       "    </tr>\n",
       "    <tr>\n",
       "      <th>1</th>\n",
       "      <td>7.7</td>\n",
       "      <td>-73.994355</td>\n",
       "      <td>40.728225</td>\n",
       "      <td>-73.994710</td>\n",
       "      <td>40.750325</td>\n",
       "      <td>1.0</td>\n",
       "      <td>20</td>\n",
       "      <td>17</td>\n",
       "      <td>7</td>\n",
       "      <td>2009</td>\n",
       "      <td>4</td>\n",
       "      <td>2.457593</td>\n",
       "    </tr>\n",
       "    <tr>\n",
       "      <th>2</th>\n",
       "      <td>12.9</td>\n",
       "      <td>-74.005043</td>\n",
       "      <td>40.740770</td>\n",
       "      <td>-73.962565</td>\n",
       "      <td>40.772647</td>\n",
       "      <td>1.0</td>\n",
       "      <td>21</td>\n",
       "      <td>24</td>\n",
       "      <td>8</td>\n",
       "      <td>2009</td>\n",
       "      <td>0</td>\n",
       "      <td>5.036384</td>\n",
       "    </tr>\n",
       "    <tr>\n",
       "      <th>3</th>\n",
       "      <td>5.3</td>\n",
       "      <td>-73.976124</td>\n",
       "      <td>40.790844</td>\n",
       "      <td>-73.965316</td>\n",
       "      <td>40.803349</td>\n",
       "      <td>3.0</td>\n",
       "      <td>8</td>\n",
       "      <td>26</td>\n",
       "      <td>6</td>\n",
       "      <td>2009</td>\n",
       "      <td>4</td>\n",
       "      <td>1.661686</td>\n",
       "    </tr>\n",
       "    <tr>\n",
       "      <th>4</th>\n",
       "      <td>16.0</td>\n",
       "      <td>-73.929786</td>\n",
       "      <td>40.744085</td>\n",
       "      <td>-73.973082</td>\n",
       "      <td>40.761247</td>\n",
       "      <td>3.5</td>\n",
       "      <td>17</td>\n",
       "      <td>28</td>\n",
       "      <td>8</td>\n",
       "      <td>2014</td>\n",
       "      <td>3</td>\n",
       "      <td>4.116088</td>\n",
       "    </tr>\n",
       "  </tbody>\n",
       "</table>\n",
       "</div>"
      ],
      "text/plain": [
       "   fare_amount  pickup_longitude  pickup_latitude  dropoff_longitude  \\\n",
       "0          7.5        -73.999817        40.738354         -73.999512   \n",
       "1          7.7        -73.994355        40.728225         -73.994710   \n",
       "2         12.9        -74.005043        40.740770         -73.962565   \n",
       "3          5.3        -73.976124        40.790844         -73.965316   \n",
       "4         16.0        -73.929786        40.744085         -73.973082   \n",
       "\n",
       "   dropoff_latitude  passenger_count  hour  day  month  year  dayofweek  \\\n",
       "0         40.723217              1.0    19    7      5  2015          3   \n",
       "1         40.750325              1.0    20   17      7  2009          4   \n",
       "2         40.772647              1.0    21   24      8  2009          0   \n",
       "3         40.803349              3.0     8   26      6  2009          4   \n",
       "4         40.761247              3.5    17   28      8  2014          3   \n",
       "\n",
       "   dist_travel_km  \n",
       "0        1.683325  \n",
       "1        2.457593  \n",
       "2        5.036384  \n",
       "3        1.661686  \n",
       "4        4.116088  "
      ]
     },
     "execution_count": 15,
     "metadata": {},
     "output_type": "execute_result"
    }
   ],
   "source": [
    "df.head()"
   ]
  },
  {
   "cell_type": "code",
   "execution_count": 17,
   "id": "d5dd47c7",
   "metadata": {},
   "outputs": [
    {
     "name": "stdout",
     "output_type": "stream",
     "text": [
      "Remaining observastions in the dataset: (200000, 12)\n"
     ]
    }
   ],
   "source": [
    "df= df.loc[(df.dist_travel_km >= 1) | (df.dist_travel_km <= 130)]\n",
    "print(\"Remaining observastions in the dataset:\", df.shape)"
   ]
  },
  {
   "cell_type": "code",
   "execution_count": 18,
   "id": "5aff6c06",
   "metadata": {},
   "outputs": [],
   "source": [
    "incorrect_coordinates = df.loc[(df.pickup_latitude > 90) |(df.pickup_latitude < -90) |\n",
    "                                   (df.dropoff_latitude > 90) |(df.dropoff_latitude < -90) |\n",
    "                                   (df.pickup_longitude > 180) |(df.pickup_longitude < -180) |\n",
    "                                   (df.dropoff_longitude > 90) |(df.dropoff_longitude < -90)\n",
    "                                    ]"
   ]
  },
  {
   "cell_type": "code",
   "execution_count": 20,
   "id": "3860573f",
   "metadata": {},
   "outputs": [
    {
     "data": {
      "text/plain": [
       "<matplotlib.axes._subplots.AxesSubplot at 0x1f6ca021848>"
      ]
     },
     "execution_count": 20,
     "metadata": {},
     "output_type": "execute_result"
    },
    {
     "data": {
      "image/png": "[encoded data removed]",
      "text/plain": [
       "<Figure size 864x504 with 2 Axes>"
      ]
     },
     "metadata": {
      "needs_background": "light"
     },
     "output_type": "display_data"
    }
   ],
   "source": [
    "plt.figure(figsize=(12,7))\n",
    "sns.heatmap(df.corr())"
   ]
  },
  {
   "cell_type": "code",
   "execution_count": 22,
   "id": "ad0e34d5",
   "metadata": {},
   "outputs": [],
   "source": [
    "x=df.drop(['fare_amount'], axis=1)\n",
    "y = df['fare_amount']"
   ]
  },
  {
   "cell_type": "code",
   "execution_count": null,
   "id": "ec5c321a",
   "metadata": {},
   "outputs": [],
   "source": []
  }
 ],
 "metadata": {
  "kernelspec": {
   "display_name": "Python 3 (ipykernel)",
   "language": "python",
   "name": "python3"
  },
  "language_info": {
   "codemirror_mode": {
    "name": "ipython",
    "version": 3
   },
   "file_extension": ".py",
   "mimetype": "text/x-python",
   "name": "python",
   "nbconvert_exporter": "python",
   "pygments_lexer": "ipython3",
   "version": "3.7.11"
  }
 },
 "nbformat": 4,
 "nbformat_minor": 5
}
